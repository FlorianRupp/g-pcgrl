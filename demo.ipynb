{
 "cells": [
  {
   "cell_type": "markdown",
   "source": [
    "# Small demo of how to create a graph with G-PCGRL\n",
    "\n",
    "* We load a pretrained model and control it to create a graph of 6 nodes using the set of constraints 1 from the paper."
   ],
   "metadata": {
    "collapsed": false
   },
   "id": "3483ac02534fa4d"
  },
  {
   "cell_type": "code",
   "execution_count": 1,
   "id": "initial_id",
   "metadata": {
    "collapsed": true,
    "ExecuteTime": {
     "end_time": "2024-05-22T07:57:56.906419900Z",
     "start_time": "2024-05-22T07:57:51.325122800Z"
    }
   },
   "outputs": [],
   "source": [
    "%load_ext autoreload\n",
    "%autoreload 2\n",
    "\n",
    "import warnings\n",
    "\n",
    "from stable_baselines3.ppo import PPO\n",
    "from stable_baselines3.ppo.policies import MlpPolicy\n",
    "\n",
    "from graph_helper import build_graph_map, init_graph_random\n",
    "from gym_pcgrl.envs.probs.graph_prob import NodeType\n",
    "from gym_pcgrl.wrappers_graph import GraphWrapper\n",
    "\n",
    "warnings.filterwarnings('ignore')"
   ]
  },
  {
   "cell_type": "code",
   "execution_count": 2,
   "outputs": [],
   "source": [
    "# define rule set (this is Set 4, see paper for details)\n",
    "rules = {\n",
    "    NodeType.A: [NodeType.B],\n",
    "    NodeType.B: [NodeType.A, NodeType.C, NodeType.B],\n",
    "    NodeType.C: [NodeType.B]\n",
    "}"
   ],
   "metadata": {
    "collapsed": false,
    "ExecuteTime": {
     "end_time": "2024-05-22T07:57:57.093479500Z",
     "start_time": "2024-05-22T07:57:56.909389300Z"
    }
   },
   "id": "11ef9d6c37716554"
  },
  {
   "cell_type": "code",
   "execution_count": 3,
   "outputs": [],
   "source": [
    "# define configuration to control model\n",
    "conf = {\n",
    "    NodeType.A: 3,\n",
    "    NodeType.B: 2,\n",
    "    NodeType.C: 1\n",
    "}\n",
    "\n",
    "def init_graph(random, width, height, prob, *args, **kwargs):\n",
    "    return build_graph_map(conf, random, width)"
   ],
   "metadata": {
    "collapsed": false,
    "ExecuteTime": {
     "end_time": "2024-05-22T07:57:57.278003800Z",
     "start_time": "2024-05-22T07:57:57.095480400Z"
    }
   },
   "id": "8651757b132a4c2b"
  },
  {
   "cell_type": "code",
   "execution_count": 4,
   "outputs": [],
   "source": [
    "representation = \"widegraph\"\n",
    "size = 6\n",
    "max_changes = 12 # care: models are very sensitive to allowed number of maximum changes.\n",
    "\n",
    "env_config = {\n",
    "    \"width\": size,\n",
    "    \"height\": size,\n",
    "    \"node_types\": 6,\n",
    "    \"rules\": rules,\n",
    "    \"init_random_map\": init_graph, # to use random configs use the init_graph_random function \n",
    "    \"render_mode\": \"rgb_array\"\n",
    "}\n",
    "\n",
    "env_name = '{}-{}-v0'.format(\"graph\", representation)\n",
    "\n",
    "env = GraphWrapper(env_name, **env_config)\n",
    "env.unwrapped.adjust_param(max_changes=max_changes)\n",
    "obs, info = env.reset()"
   ],
   "metadata": {
    "collapsed": false,
    "ExecuteTime": {
     "end_time": "2024-05-22T07:57:57.455052400Z",
     "start_time": "2024-05-22T07:57:57.279005500Z"
    }
   },
   "id": "8da2fcb6f53ddef5"
  },
  {
   "cell_type": "code",
   "execution_count": 5,
   "outputs": [
    {
     "data": {
      "text/plain": "<Figure size 432x288 with 1 Axes>",
      "image/png": "[encoded data removed]"
     },
     "metadata": {},
     "output_type": "display_data"
    },
    {
     "name": "stdout",
     "output_type": "stream",
     "text": [
      "Is graph valid? False\n"
     ]
    }
   ],
   "source": [
    "# render current graph (random)\n",
    "env.unwrapped.render(mode=\"graph\")\n",
    "\n",
    "print(\"Is graph valid?\", info[\"valid\"])"
   ],
   "metadata": {
    "collapsed": false,
    "ExecuteTime": {
     "end_time": "2024-05-22T07:57:57.733482800Z",
     "start_time": "2024-05-22T07:57:57.456053500Z"
    }
   },
   "id": "9b4d7845cd2da50a"
  },
  {
   "cell_type": "code",
   "execution_count": 6,
   "outputs": [],
   "source": [
    "# load pretrained PPO model controllable up to 6 nodes with Set 1\n",
    "model = PPO(MlpPolicy, env).load(\"models/widegraph-SET4-size6-rules5-types3-c12.zip\", env)"
   ],
   "metadata": {
    "collapsed": false,
    "ExecuteTime": {
     "end_time": "2024-05-22T07:57:58.527782900Z",
     "start_time": "2024-05-22T07:57:57.733482800Z"
    }
   },
   "id": "e1a4a1077dec0030"
  },
  {
   "cell_type": "code",
   "execution_count": 7,
   "outputs": [],
   "source": [
    "def inference(env, model_):\n",
    "    obs, _ = env.reset()\n",
    "    done = False\n",
    "    reward_total = 0\n",
    "    for i in range(200):\n",
    "        if not done:\n",
    "            action, _ = model_.predict(obs)\n",
    "            obs, reward, done, trunc, info = env.step(action)\n",
    "            reward_total += reward\n",
    "            if done:\n",
    "                break\n",
    "    return env, info, reward_total"
   ],
   "metadata": {
    "collapsed": false,
    "ExecuteTime": {
     "end_time": "2024-05-22T07:57:58.717486300Z",
     "start_time": "2024-05-22T07:57:58.529784200Z"
    }
   },
   "id": "a768997097ecece"
  },
  {
   "cell_type": "code",
   "execution_count": 8,
   "outputs": [
    {
     "name": "stdout",
     "output_type": "stream",
     "text": [
      "Is graph valid? True Reward: 30\n"
     ]
    }
   ],
   "source": [
    "env, info, reward = inference(env, model)\n",
    "print(\"Is graph valid?\", info[\"valid\"], \"Reward:\", reward)"
   ],
   "metadata": {
    "collapsed": false,
    "ExecuteTime": {
     "end_time": "2024-05-22T07:57:58.909678700Z",
     "start_time": "2024-05-22T07:57:58.719456400Z"
    }
   },
   "id": "1000f164dac884d7"
  },
  {
   "cell_type": "code",
   "execution_count": 9,
   "outputs": [
    {
     "data": {
      "text/plain": "{'valid': True,\n 'valids': 0,\n 'num_edges': 9,\n 'map': array([[3, 0, 0, 0, 0, 0],\n        [0, 3, 0, 0, 0, 0],\n        [1, 1, 4, 0, 0, 0],\n        [1, 1, 1, 4, 0, 0],\n        [0, 0, 1, 1, 3, 0],\n        [0, 0, 1, 1, 0, 5]]),\n 'iterations': 10,\n 'changes': 10,\n 'max_iterations': 100,\n 'max_changes': 12}"
     },
     "execution_count": 9,
     "metadata": {},
     "output_type": "execute_result"
    }
   ],
   "source": [
    "info"
   ],
   "metadata": {
    "collapsed": false,
    "ExecuteTime": {
     "end_time": "2024-05-22T07:57:59.101729500Z",
     "start_time": "2024-05-22T07:57:58.911679100Z"
    }
   },
   "id": "74f265919036349"
  },
  {
   "cell_type": "markdown",
   "source": [
    "#### Render valid graph\n",
    "\n",
    "The graph satisfies all constraints defined above: A must be connected to B, B may be connected to A,B, and C, and C must be connected to B."
   ],
   "metadata": {
    "collapsed": false
   },
   "id": "226a13807be976bd"
  },
  {
   "cell_type": "code",
   "execution_count": 10,
   "outputs": [
    {
     "data": {
      "text/plain": "<Figure size 432x288 with 1 Axes>",
      "image/png": "[encoded data removed]"
     },
     "metadata": {},
     "output_type": "display_data"
    }
   ],
   "source": [
    "env.unwrapped.render(mode=\"graph\")"
   ],
   "metadata": {
    "collapsed": false,
    "ExecuteTime": {
     "end_time": "2024-05-22T07:58:02.235945500Z",
     "start_time": "2024-05-22T07:58:00.180336300Z"
    }
   },
   "id": "4b74127c347f741a"
  }
 ],
 "metadata": {
  "kernelspec": {
   "display_name": "Python 3",
   "language": "python",
   "name": "python3"
  },
  "language_info": {
   "codemirror_mode": {
    "name": "ipython",
    "version": 2
   },
   "file_extension": ".py",
   "mimetype": "text/x-python",
   "name": "python",
   "nbconvert_exporter": "python",
   "pygments_lexer": "ipython2",
   "version": "2.7.6"
  }
 },
 "nbformat": 4,
 "nbformat_minor": 5
}
