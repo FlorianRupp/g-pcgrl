{
 "cells": [
  {
   "cell_type": "markdown",
   "source": [
    "# Small demo of how to create a graph with G-PCGRL\n",
    "\n",
    "* We load a pretrained model and control it to create a graph of 6 nodes using the set of constraints 1 from the paper."
   ],
   "metadata": {
    "collapsed": false
   },
   "id": "3483ac02534fa4d"
  },
  {
   "cell_type": "code",
   "execution_count": 15,
   "id": "initial_id",
   "metadata": {
    "collapsed": true,
    "ExecuteTime": {
     "end_time": "2024-05-17T13:24:40.983071700Z",
     "start_time": "2024-05-17T13:24:40.217940800Z"
    }
   },
   "outputs": [
    {
     "name": "stdout",
     "output_type": "stream",
     "text": [
      "The autoreload extension is already loaded. To reload it, use:\n",
      "  %reload_ext autoreload\n"
     ]
    }
   ],
   "source": [
    "%load_ext autoreload\n",
    "%autoreload 2\n",
    "\n",
    "import warnings\n",
    "\n",
    "from stable_baselines3.ppo import PPO\n",
    "from stable_baselines3.ppo.policies import MlpPolicy\n",
    "\n",
    "from graph_helper import build_graph_map, init_graph_random\n",
    "from gym_pcgrl.envs.probs.graph_prob import NodeType\n",
    "from gym_pcgrl.wrappers_graph import GraphWrapper\n",
    "\n",
    "warnings.filterwarnings('ignore')"
   ]
  },
  {
   "cell_type": "code",
   "execution_count": 16,
   "outputs": [],
   "source": [
    "# define rule set (this is Set 1, see paper for details)\n",
    "rules = {\n",
    "    NodeType.A: [NodeType.B],\n",
    "    NodeType.B: [NodeType.A, NodeType.C],\n",
    "    NodeType.C: [NodeType.B]\n",
    "}"
   ],
   "metadata": {
    "collapsed": false,
    "ExecuteTime": {
     "end_time": "2024-05-17T13:25:03.175540600Z",
     "start_time": "2024-05-17T13:25:02.970950Z"
    }
   },
   "id": "11ef9d6c37716554"
  },
  {
   "cell_type": "code",
   "execution_count": 17,
   "outputs": [],
   "source": [
    "# define configuration to control model\n",
    "conf = {\n",
    "    NodeType.A: 3,\n",
    "    NodeType.B: 2,\n",
    "    NodeType.C: 1\n",
    "}\n",
    "\n",
    "def init_graph(random, width, height, prob, *args, **kwargs):\n",
    "    return build_graph_map(conf, random, width)"
   ],
   "metadata": {
    "collapsed": false,
    "ExecuteTime": {
     "end_time": "2024-05-17T13:25:04.295649700Z",
     "start_time": "2024-05-17T13:25:04.086327700Z"
    }
   },
   "id": "8651757b132a4c2b"
  },
  {
   "cell_type": "code",
   "execution_count": 18,
   "outputs": [],
   "source": [
    "representation = \"widegraph\"\n",
    "size = 6\n",
    "env_config = {\n",
    "    \"width\": size,\n",
    "    \"height\": size,\n",
    "    \"node_types\": 6,\n",
    "    \"init_random_map\": init_graph, # to use random configs use the init_graph_random function \n",
    "    \"render_mode\": \"rgb_array\"\n",
    "}\n",
    "\n",
    "env_name = '{}-{}-v0'.format(\"graph\", representation)\n",
    "\n",
    "env = GraphWrapper(env_name, **env_config)\n",
    "obs, info = env.reset()"
   ],
   "metadata": {
    "collapsed": false,
    "ExecuteTime": {
     "end_time": "2024-05-17T13:25:05.570643Z",
     "start_time": "2024-05-17T13:25:05.361103200Z"
    }
   },
   "id": "8da2fcb6f53ddef5"
  },
  {
   "cell_type": "code",
   "execution_count": 20,
   "outputs": [
    {
     "data": {
      "text/plain": "<Figure size 432x288 with 1 Axes>",
      "image/png": "[encoded data removed]"
     },
     "metadata": {},
     "output_type": "display_data"
    },
    {
     "name": "stdout",
     "output_type": "stream",
     "text": [
      "Is graph valid? False\n"
     ]
    }
   ],
   "source": [
    "# render current graph (random)\n",
    "env.unwrapped.render(mode=\"graph\")\n",
    "\n",
    "print(\"Is graph valid?\", info[\"valid\"])"
   ],
   "metadata": {
    "collapsed": false,
    "ExecuteTime": {
     "end_time": "2024-05-17T13:25:10.586616300Z",
     "start_time": "2024-05-17T13:25:10.316803300Z"
    }
   },
   "id": "9b4d7845cd2da50a"
  },
  {
   "cell_type": "code",
   "execution_count": 21,
   "outputs": [],
   "source": [
    "# load pretrained PPO model controllable up to 6 nodes with Set 1\n",
    "model = PPO(MlpPolicy, env, n_steps=128).load(\"models/widegraph-size6-rules4-types3.zip\", env)"
   ],
   "metadata": {
    "collapsed": false,
    "ExecuteTime": {
     "end_time": "2024-05-17T13:26:13.520267900Z",
     "start_time": "2024-05-17T13:26:13.292247900Z"
    }
   },
   "id": "e1a4a1077dec0030"
  },
  {
   "cell_type": "code",
   "execution_count": 22,
   "outputs": [],
   "source": [
    "def inference(env, model_):\n",
    "    obs, _ = env.reset()\n",
    "    done = False\n",
    "    reward_total = 0\n",
    "    for i in range(200):\n",
    "        if not done:\n",
    "            action, _ = model_.predict(obs)\n",
    "            obs, reward, done, trunc, info = env.step(action)\n",
    "            reward_total += reward\n",
    "            if done:\n",
    "                break\n",
    "    return env, info, reward_total"
   ],
   "metadata": {
    "collapsed": false,
    "ExecuteTime": {
     "end_time": "2024-05-17T13:26:14.361457500Z",
     "start_time": "2024-05-17T13:26:14.170646300Z"
    }
   },
   "id": "a768997097ecece"
  },
  {
   "cell_type": "code",
   "execution_count": 24,
   "outputs": [
    {
     "name": "stdout",
     "output_type": "stream",
     "text": [
      "Is graph valid? True Reward: 20\n"
     ]
    }
   ],
   "source": [
    "env, info, reward = inference(env, model)\n",
    "print(\"Is graph valid?\", info[\"valid\"], \"Reward:\", reward)"
   ],
   "metadata": {
    "collapsed": false,
    "ExecuteTime": {
     "end_time": "2024-05-17T13:26:16.499412700Z",
     "start_time": "2024-05-17T13:26:16.294495900Z"
    }
   },
   "id": "1000f164dac884d7"
  },
  {
   "cell_type": "code",
   "execution_count": 25,
   "outputs": [
    {
     "data": {
      "text/plain": "<Figure size 432x288 with 1 Axes>",
      "image/png": "[encoded data removed]"
     },
     "metadata": {},
     "output_type": "display_data"
    }
   ],
   "source": [
    "env.unwrapped.render(mode=\"graph\")"
   ],
   "metadata": {
    "collapsed": false,
    "ExecuteTime": {
     "end_time": "2024-05-17T13:26:18.850472600Z",
     "start_time": "2024-05-17T13:26:18.571814600Z"
    }
   },
   "id": "4b74127c347f741a"
  }
 ],
 "metadata": {
  "kernelspec": {
   "display_name": "Python 3",
   "language": "python",
   "name": "python3"
  },
  "language_info": {
   "codemirror_mode": {
    "name": "ipython",
    "version": 2
   },
   "file_extension": ".py",
   "mimetype": "text/x-python",
   "name": "python",
   "nbconvert_exporter": "python",
   "pygments_lexer": "ipython2",
   "version": "2.7.6"
  }
 },
 "nbformat": 4,
 "nbformat_minor": 5
}
